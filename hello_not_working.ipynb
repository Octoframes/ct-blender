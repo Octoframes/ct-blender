{
 "cells": [
  {
   "cell_type": "code",
   "execution_count": 1,
   "metadata": {},
   "outputs": [],
   "source": [
    "# Import necessary libraries for image processing and file handling\n",
    "import os\n",
    "import numpy as np\n",
    "from PIL import Image\n",
    "from pathlib import Path"
   ]
  },
  {
   "cell_type": "code",
   "execution_count": 2,
   "metadata": {},
   "outputs": [],
   "source": [
    "# Define input and output paths, grid size, and resize factor\n",
    "input_folder = Path(\"recon\")  # Relative path to the recon/ folder\n",
    "output_image_path = Path(\"output_grid.png\")  # Output in the main folder\n",
    "\n",
    "# Define grid size (rows, columns) and resize factor for images\n",
    "grid_size = (23, 23)  # Adjust grid size as needed\n",
    "resize_factor = 0.4  # Resize factor to reduce image dimensions"
   ]
  },
  {
   "cell_type": "code",
   "execution_count": 3,
   "metadata": {},
   "outputs": [
    {
     "name": "stdout",
     "output_type": "stream",
     "text": [
      "Number of images to load: 529\n"
     ]
    }
   ],
   "source": [
    "# Check if the input folder exists and retrieve a list of .tif files\n",
    "if not input_folder.exists():\n",
    "    print(f\"Input folder '{input_folder}' does not exist.\")\n",
    "else:\n",
    "    # Get a sorted list of all .tif files in the input folder\n",
    "    image_paths = sorted(input_folder.glob(\"*.tif\"))\n",
    "    \n",
    "    # Limit the number of images to the required grid size\n",
    "    required_images = grid_size[0] * grid_size[1]\n",
    "    image_paths = image_paths[:required_images]\n",
    "    \n",
    "    print(f\"Number of images to load: {len(image_paths)}\")"
   ]
  },
  {
   "cell_type": "code",
   "execution_count": 4,
   "metadata": {},
   "outputs": [
    {
     "name": "stdout",
     "output_type": "stream",
     "text": [
      "Global min: 8334, Global max: 55339\n"
     ]
    }
   ],
   "source": [
    "# Load images into memory and determine the global minimum and maximum pixel values\n",
    "global_min = float('inf')\n",
    "global_max = float('-inf')\n",
    "images = []\n",
    "\n",
    "for file_path in image_paths:\n",
    "    # Open image and convert to 16-bit grayscale if necessary\n",
    "    img = Image.open(file_path)\n",
    "    if img.mode != 'I;16':\n",
    "        img = img.convert('I;16')\n",
    "    \n",
    "    # Convert image to numpy array and store it\n",
    "    img_array = np.array(img)\n",
    "    images.append(img_array)\n",
    "    \n",
    "    # Update global minimum and maximum values\n",
    "    min_val = img_array.min()\n",
    "    max_val = img_array.max()\n",
    "    if min_val < global_min:\n",
    "        global_min = min_val\n",
    "    if max_val > global_max:\n",
    "        global_max = max_val\n",
    "\n",
    "print(f\"Global min: {global_min}, Global max: {global_max}\")"
   ]
  },
  {
   "cell_type": "code",
   "execution_count": 5,
   "metadata": {},
   "outputs": [],
   "source": [
    "# Normalize image pixel values to the range [0, 255] and convert to uint8\n",
    "normalized_images = []\n",
    "\n",
    "for img_array in images:\n",
    "    # Normalize to [0, 1] based on global min and max\n",
    "    img_normalized = (img_array - global_min) / (global_max - global_min)\n",
    "    # Scale to [0, 255] and convert to 8-bit unsigned integers\n",
    "    img_8bit = (img_normalized * 255).astype(np.uint8)\n",
    "    normalized_images.append(img_8bit)"
   ]
  },
  {
   "cell_type": "code",
   "execution_count": 6,
   "metadata": {},
   "outputs": [],
   "source": [
    "# Resize images if a resize factor other than 1.0 is specified\n",
    "if resize_factor != 1.0:\n",
    "    resized_images = []\n",
    "    for img_array in normalized_images:\n",
    "        # Convert numpy array back to PIL Image for resizing\n",
    "        img = Image.fromarray(img_array)\n",
    "        # Calculate new dimensions based on the resize factor\n",
    "        new_size = (int(img.width * resize_factor), int(img.height * resize_factor))\n",
    "        # Resize image using bicubic interpolation\n",
    "        img_resized = img.resize(new_size, Image.BICUBIC)\n",
    "        # Convert resized image back to numpy array and store it\n",
    "        resized_images.append(np.array(img_resized))\n",
    "else:\n",
    "    resized_images = normalized_images"
   ]
  },
  {
   "cell_type": "code",
   "execution_count": 7,
   "metadata": {},
   "outputs": [
    {
     "name": "stdout",
     "output_type": "stream",
     "text": [
      "Stacked image array shape: (529, 742, 742)\n"
     ]
    }
   ],
   "source": [
    "# Stack all image arrays into a single 3D numpy array for grid creation\n",
    "slices = np.stack(resized_images, axis=0)\n",
    "print(f\"Stacked image array shape: {slices.shape}\")"
   ]
  },
  {
   "cell_type": "code",
   "execution_count": 8,
   "metadata": {},
   "outputs": [],
   "source": [
    "# Create a grid image by arranging the individual images according to the grid size\n",
    "num_slices = slices.shape[0]\n",
    "slice_height, slice_width = slices.shape[1:3]\n",
    "\n",
    "# Create a new blank image to hold the grid\n",
    "grid_image = Image.new('L', (slice_width * grid_size[1], slice_height * grid_size[0]))\n",
    "\n",
    "# Paste each image slice into the appropriate position in the grid\n",
    "for i in range(num_slices):\n",
    "    row = i // grid_size[1]\n",
    "    col = i % grid_size[1]\n",
    "    \n",
    "    # Break the loop if the grid is filled\n",
    "    if row >= grid_size[0]:\n",
    "        break\n",
    "    \n",
    "    # Get the image slice and paste it into the grid image\n",
    "    slice_data = slices[i, :, :]\n",
    "    slice_image = Image.fromarray(slice_data)\n",
    "    grid_image.paste(slice_image, (col * slice_width, row * slice_height))"
   ]
  },
  {
   "cell_type": "code",
   "execution_count": 9,
   "metadata": {},
   "outputs": [
    {
     "name": "stdout",
     "output_type": "stream",
     "text": [
      "Grid image saved to output_grid.png\n"
     ]
    }
   ],
   "source": [
    "# Save the final grid image to the specified output path and display it\n",
    "grid_image.save(output_image_path)\n",
    "print(f\"Grid image saved to {output_image_path}\")\n",
    "\n",
    "# Optionally display the grid image (may not work in all environments)\n",
    "grid_image.show()"
   ]
  },
  {
   "cell_type": "code",
   "execution_count": null,
   "metadata": {},
   "outputs": [],
   "source": []
  }
 ],
 "metadata": {
  "kernelspec": {
   "display_name": ".venv",
   "language": "python",
   "name": "python3"
  },
  "language_info": {
   "codemirror_mode": {
    "name": "ipython",
    "version": 3
   },
   "file_extension": ".py",
   "mimetype": "text/x-python",
   "name": "python",
   "nbconvert_exporter": "python",
   "pygments_lexer": "ipython3",
   "version": "3.11.10"
  }
 },
 "nbformat": 4,
 "nbformat_minor": 2
}
