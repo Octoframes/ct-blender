{
 "cells": [
  {
   "cell_type": "code",
   "execution_count": 1,
   "metadata": {},
   "outputs": [],
   "source": [
    "import numpy as np\n",
    "from PIL import Image\n",
    "from pathlib import Path"
   ]
  },
  {
   "cell_type": "code",
   "execution_count": 2,
   "metadata": {},
   "outputs": [
    {
     "name": "stdout",
     "output_type": "stream",
     "text": [
      "Input folder 'recon' found.\n"
     ]
    }
   ],
   "source": [
    "# Set up parameters\n",
    "grid_size = (23, 23)  # Adjust grid size as needed\n",
    "resize_factor = 0.4   # Resize factor to reduce image dimensions\n",
    "\n",
    "# Define input and output paths\n",
    "input_folder = Path(\"recon\")             # Path to the recon/ folder\n",
    "output_image_path = Path(\"output_grid.png\")  # Save output in the main folder\n",
    "\n",
    "# Check if the input folder exists\n",
    "if not input_folder.exists():\n",
    "    print(f\"Input folder '{input_folder}' does not exist.\")\n",
    "else:\n",
    "    print(f\"Input folder '{input_folder}' found.\")"
   ]
  },
  {
   "cell_type": "code",
   "execution_count": 3,
   "metadata": {},
   "outputs": [],
   "source": [
    "# Function to get required images\n",
    "def get_required_images(folder_path, grid_size):\n",
    "    required_images = grid_size[0] * grid_size[1]\n",
    "    valid_images = []\n",
    "\n",
    "    for file_path in folder_path.glob(\"*.tif\"):\n",
    "        valid_images.append(file_path)\n",
    "        if len(valid_images) >= required_images:\n",
    "            break\n",
    "    return valid_images[:required_images]"
   ]
  },
  {
   "cell_type": "code",
   "execution_count": 4,
   "metadata": {},
   "outputs": [],
   "source": [
    "# Function to load and normalize images\n",
    "def load_and_normalize_images(image_paths, resize_factor=1.0):\n",
    "    images = []\n",
    "    global_min = float('inf')\n",
    "    global_max = float('-inf')\n",
    "\n",
    "    # First pass: Determine global min and max\n",
    "    for file_path in image_paths:\n",
    "        img = Image.open(file_path)\n",
    "        if img.mode != 'I;16':\n",
    "            img = img.convert('I;16')\n",
    "\n",
    "        img_array = np.array(img)\n",
    "        min_val = np.min(img_array)\n",
    "        max_val = np.max(img_array)\n",
    "\n",
    "        if min_val < global_min:\n",
    "            global_min = min_val\n",
    "        if max_val > global_max:\n",
    "            global_max = max_val\n",
    "\n",
    "    # Second pass: Load and normalize images\n",
    "    for file_path in image_paths:\n",
    "        img = Image.open(file_path)\n",
    "        img = img.convert('I;16')\n",
    "        img_array = np.array(img)\n",
    "\n",
    "        # Normalize to [0, 1] range based on global min and max\n",
    "        img_normalized = (img_array - global_min) / (global_max - global_min)\n",
    "        img_8bit = (img_normalized * 255).astype(np.uint8)\n",
    "\n",
    "        img = Image.fromarray(img_8bit)\n",
    "\n",
    "        if resize_factor != 1.0:\n",
    "            new_size = (int(img.width * resize_factor), int(img.height * resize_factor))\n",
    "            img = img.resize(new_size, Image.BICUBIC)\n",
    "            img_8bit = np.array(img)\n",
    "\n",
    "        images.append(img_8bit)\n",
    "\n",
    "    if not images:\n",
    "        return np.array([])\n",
    "\n",
    "    return np.stack(images, axis=0)"
   ]
  },
  {
   "cell_type": "code",
   "execution_count": 5,
   "metadata": {},
   "outputs": [],
   "source": [
    "# Function to save slices as a grid image\n",
    "def save_slices_as_grid_image(normalized_data, output_path, grid_size):\n",
    "    if normalized_data.size == 0:\n",
    "        print(\"No valid images to create a grid.\")\n",
    "        return\n",
    "\n",
    "    num_slices = normalized_data.shape[0]\n",
    "    slice_height, slice_width = normalized_data.shape[1:3]\n",
    "\n",
    "    # Create an empty image for the grid\n",
    "    grid_image = Image.new('L', (slice_width * grid_size[1], slice_height * grid_size[0]))\n",
    "\n",
    "    for i in range(num_slices):\n",
    "        row = i // grid_size[1]\n",
    "        col = i % grid_size[1]\n",
    "\n",
    "        if row >= grid_size[0]:\n",
    "            break\n",
    "\n",
    "        slice_data = normalized_data[i, :, :]\n",
    "        slice_image = Image.fromarray(slice_data)\n",
    "        grid_image.paste(slice_image, (col * slice_width, row * slice_height))\n",
    "\n",
    "    grid_image.save(output_path)\n",
    "    print(f\"Grid image saved to {output_path}\")"
   ]
  },
  {
   "cell_type": "code",
   "execution_count": 6,
   "metadata": {},
   "outputs": [
    {
     "name": "stdout",
     "output_type": "stream",
     "text": [
      "Found 529 images.\n"
     ]
    }
   ],
   "source": [
    "# Get the required image paths\n",
    "if input_folder.exists():\n",
    "    image_paths = get_required_images(input_folder, grid_size)\n",
    "    if not image_paths:\n",
    "        print(\"No valid images found to create a grid.\")\n",
    "    else:\n",
    "        print(f\"Found {len(image_paths)} images.\")"
   ]
  },
  {
   "cell_type": "code",
   "execution_count": 7,
   "metadata": {},
   "outputs": [],
   "source": [
    "# Load and normalize images\n",
    "normalized_data = load_and_normalize_images(image_paths, resize_factor=resize_factor)"
   ]
  },
  {
   "cell_type": "code",
   "execution_count": 8,
   "metadata": {},
   "outputs": [
    {
     "name": "stdout",
     "output_type": "stream",
     "text": [
      "Grid image saved to output_grid.png\n"
     ]
    }
   ],
   "source": [
    "# Save the grid image\n",
    "save_slices_as_grid_image(normalized_data, output_image_path, grid_size)"
   ]
  },
  {
   "cell_type": "code",
   "execution_count": null,
   "metadata": {},
   "outputs": [],
   "source": []
  }
 ],
 "metadata": {
  "kernelspec": {
   "display_name": ".venv",
   "language": "python",
   "name": "python3"
  },
  "language_info": {
   "codemirror_mode": {
    "name": "ipython",
    "version": 3
   },
   "file_extension": ".py",
   "mimetype": "text/x-python",
   "name": "python",
   "nbconvert_exporter": "python",
   "pygments_lexer": "ipython3",
   "version": "3.11.10"
  }
 },
 "nbformat": 4,
 "nbformat_minor": 2
}
