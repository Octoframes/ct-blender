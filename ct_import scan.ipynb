{
 "cells": [
  {
   "cell_type": "code",
   "execution_count": null,
   "metadata": {},
   "outputs": [],
   "source": [
    "import bpy\n",
    "\n",
    "# Open the .blend file\n",
    "bpy.ops.wm.open_mainfile(filepath=\"Scan Data Visualizer V1.blend\")"
   ]
  },
  {
   "cell_type": "code",
   "execution_count": null,
   "metadata": {},
   "outputs": [],
   "source": [
    "import bpy\n",
    "from pathlib import Path\n",
    "\n",
    "# Load the image\n",
    "image_path = Path(\"./res_low_bombus_grid27x27.png\").resolve()\n",
    "my_image = bpy.data.images.load(str(image_path))\n",
    "\n",
    "# Image is now stored in bpy.data.images and can be accessed later\n",
    "print(f\"Loaded image: {my_image.name}\")"
   ]
  },
  {
   "cell_type": "code",
   "execution_count": null,
   "metadata": {},
   "outputs": [],
   "source": [
    "obj = bpy.context.scene.objects.get(\"Scan PNG\")\n",
    "\n",
    "mat = obj.active_material\n",
    "nodes = mat.node_tree.nodes\n",
    "\n",
    "for node in nodes:\n",
    "    if node.type == 'TEX_IMAGE':\n",
    "        node.image = my_image"
   ]
  },
  {
   "cell_type": "code",
   "execution_count": null,
   "metadata": {},
   "outputs": [],
   "source": [
    "obj = bpy.context.scene.objects.get(\"Scan Geometrynodes Visualizer.001\")\n",
    "\n",
    "gn_mod = obj.modifiers.get(\"GeometryNodes\")\n",
    "\n",
    "print(\"original skull:\", gn_mod[\"Input_2\"]) # rows\n",
    "print(\"original skull:\", gn_mod[\"Input_4\"]) # image\n",
    "print(\"original skull:\", gn_mod[\"Input_10\"]) # threshold\n",
    "\n",
    "gn_mod[\"Input_2\"] = 27\n",
    "gn_mod[\"Input_4\"] = my_image\n",
    "gn_mod[\"Input_10\"] = 0.19\n",
    "\n",
    "obj.data.update()"
   ]
  },
  {
   "cell_type": "code",
   "execution_count": null,
   "metadata": {},
   "outputs": [],
   "source": [
    "obj = bpy.context.scene.objects.get(\"Scan Geometrynodes Visualizer\")\n",
    "\n",
    "gn_mod = obj.modifiers.get(\"GeometryNodes\")\n",
    "\n",
    "print(\"original skull:\", gn_mod[\"Input_2\"]) # rows\n",
    "print(\"original skull:\", gn_mod[\"Input_4\"]) # image\n",
    "print(\"original skull:\", gn_mod[\"Input_7\"]) # from_min\n",
    "\n",
    "gn_mod[\"Input_2\"] = 27\n",
    "gn_mod[\"Input_4\"] = my_image\n",
    "gn_mod[\"Input_7\"] = 0.14\n",
    "\n",
    "obj.data.update()\n"
   ]
  },
  {
   "cell_type": "code",
   "execution_count": null,
   "metadata": {},
   "outputs": [],
   "source": [
    "import bpy\n",
    "\n",
    "material = bpy.data.materials[\"Flipbook Volume Shader\"]\n",
    "nodes = material.node_tree.nodes\n",
    "nodes"
   ]
  },
  {
   "cell_type": "code",
   "execution_count": null,
   "metadata": {},
   "outputs": [],
   "source": [
    "flipbook_rows = nodes[\"Group\"].inputs[\"Flipbook Rows\"].default_value\n",
    "print(f\"Shaders skull: Flipbook Rows - {flipbook_rows}\")\n",
    "for node in nodes:\n",
    "    if node.type == \"TEX_IMAGE\":\n",
    "        print(f\"Shaders skull image: {node.name}: {node.image}\")\n",
    "print(f\"Shaders skull Density ColorRamp: {nodes['ColorRamp'].color_ramp.elements[0].position}\")\n",
    "\n",
    "flipbook_rows = nodes[\"Group\"].inputs[\"Flipbook Rows\"].default_value = 27\n",
    "for node in nodes:\n",
    "    if node.type == \"TEX_IMAGE\":\n",
    "        node.image = my_image\n",
    "nodes['ColorRamp'].color_ramp.elements[0].position = 0.1"
   ]
  },
  {
   "cell_type": "code",
   "execution_count": null,
   "metadata": {},
   "outputs": [],
   "source": []
  }
 ],
 "metadata": {
  "kernelspec": {
   "display_name": "blender",
   "language": "python",
   "name": "blender"
  },
  "language_info": {
   "codemirror_mode": {
    "name": "ipython",
    "version": 3
   },
   "file_extension": ".py",
   "mimetype": "text/x-python",
   "name": "python",
   "nbconvert_exporter": "python",
   "pygments_lexer": "ipython3",
   "version": "3.11.9"
  }
 },
 "nbformat": 4,
 "nbformat_minor": 2
}
