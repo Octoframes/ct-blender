{
 "cells": [
  {
   "cell_type": "code",
   "execution_count": 1,
   "metadata": {},
   "outputs": [
    {
     "data": {
      "text/plain": [
       "{'FINISHED'}"
      ]
     },
     "execution_count": 1,
     "metadata": {},
     "output_type": "execute_result"
    }
   ],
   "source": [
    "import bpy\n",
    "\n",
    "# Open the .blend file\n",
    "bpy.ops.wm.open_mainfile(filepath=\"Scan Data Visualizer V1.blend\")"
   ]
  },
  {
   "cell_type": "code",
   "execution_count": 2,
   "metadata": {},
   "outputs": [
    {
     "name": "stdout",
     "output_type": "stream",
     "text": [
      "Loaded image: res_low_bombus_grid27x27.png\n"
     ]
    }
   ],
   "source": [
    "import bpy\n",
    "from pathlib import Path\n",
    "\n",
    "# Load the image\n",
    "image_path = Path(\"./res_low_bombus_grid27x27.png\").resolve()\n",
    "my_image = bpy.data.images.load(str(image_path))\n",
    "\n",
    "# Image is now stored in bpy.data.images and can be accessed later\n",
    "print(f\"Loaded image: {my_image.name}\")"
   ]
  },
  {
   "cell_type": "code",
   "execution_count": 3,
   "metadata": {},
   "outputs": [],
   "source": [
    "obj = bpy.context.scene.objects.get(\"Scan PNG\")\n",
    "\n",
    "mat = obj.active_material\n",
    "nodes = mat.node_tree.nodes\n",
    "\n",
    "for node in nodes:\n",
    "    if node.type == 'TEX_IMAGE':\n",
    "        node.image = my_image"
   ]
  },
  {
   "cell_type": "code",
   "execution_count": 4,
   "metadata": {},
   "outputs": [
    {
     "name": "stdout",
     "output_type": "stream",
     "text": [
      "original skull: 16\n",
      "original skull: <bpy_struct, Image(\"Brain Scan Flipbook.png\") at 0x126f48a20>\n",
      "original skull: 0.5\n"
     ]
    }
   ],
   "source": [
    "obj = bpy.context.scene.objects.get(\"Scan Geometrynodes Visualizer.001\")\n",
    "\n",
    "gn_mod = obj.modifiers.get(\"GeometryNodes\")\n",
    "\n",
    "print(\"original skull:\", gn_mod[\"Input_2\"]) # rows\n",
    "print(\"original skull:\", gn_mod[\"Input_4\"]) # image\n",
    "print(\"original skull:\", gn_mod[\"Input_10\"]) # threshold\n",
    "\n",
    "gn_mod[\"Input_2\"] = 27\n",
    "gn_mod[\"Input_4\"] = my_image\n",
    "gn_mod[\"Input_10\"] = 0.19\n",
    "\n",
    "obj.data.update()"
   ]
  },
  {
   "cell_type": "code",
   "execution_count": 5,
   "metadata": {},
   "outputs": [
    {
     "name": "stdout",
     "output_type": "stream",
     "text": [
      "original skull: 16\n",
      "original skull: <bpy_struct, Image(\"Brain Scan Flipbook.png\") at 0x126f48a20>\n",
      "original skull: 0.0\n"
     ]
    },
    {
     "name": "stderr",
     "output_type": "stream",
     "text": [
      "2024-12-03 11:41:41.454 Blender[8604:416019] +[IMKClient subclass]: chose IMKClient_Modern\n",
      "2024-12-03 11:41:41.454 Blender[8604:416019] +[IMKInputSession subclass]: chose IMKInputSession_Modern\n"
     ]
    }
   ],
   "source": [
    "obj = bpy.context.scene.objects.get(\"Scan Geometrynodes Visualizer\")\n",
    "\n",
    "gn_mod = obj.modifiers.get(\"GeometryNodes\")\n",
    "\n",
    "print(\"original skull:\", gn_mod[\"Input_2\"]) # rows\n",
    "print(\"original skull:\", gn_mod[\"Input_4\"]) # image\n",
    "print(\"original skull:\", gn_mod[\"Input_7\"]) # from_min\n",
    "\n",
    "gn_mod[\"Input_2\"] = 27\n",
    "gn_mod[\"Input_4\"] = my_image\n",
    "gn_mod[\"Input_7\"] = 0.14\n",
    "\n",
    "obj.data.update()\n"
   ]
  },
  {
   "cell_type": "code",
   "execution_count": 8,
   "metadata": {},
   "outputs": [
    {
     "data": {
      "text/plain": [
       "bpy.data.materials['Flipbook Volume Shader'].node_tree.nodes"
      ]
     },
     "execution_count": 8,
     "metadata": {},
     "output_type": "execute_result"
    }
   ],
   "source": [
    "import bpy\n",
    "\n",
    "material = bpy.data.materials[\"Flipbook Volume Shader\"]\n",
    "nodes = material.node_tree.nodes\n",
    "nodes"
   ]
  },
  {
   "cell_type": "code",
   "execution_count": 12,
   "metadata": {},
   "outputs": [
    {
     "name": "stdout",
     "output_type": "stream",
     "text": [
      "Frame.003\n",
      "Frame.001\n",
      "Frame.002\n",
      "Frame.004\n",
      "Frame\n",
      "Frame.005\n",
      "Material Output\n",
      "Reroute.003\n",
      "Math.012\n",
      "Group\n",
      "Image Texture\n",
      "Image Texture.001\n",
      "Math.008\n",
      "Vector Math.004\n",
      "Texture Coordinate.001\n",
      "Math.010\n",
      "ColorRamp\n",
      "Mix (Legacy)\n",
      "Principled Volume\n",
      "ColorRamp.001\n"
     ]
    }
   ],
   "source": [
    "for node in nodes:\n",
    "    print(node.name)"
   ]
  },
  {
   "cell_type": "code",
   "execution_count": 30,
   "metadata": {},
   "outputs": [
    {
     "name": "stdout",
     "output_type": "stream",
     "text": [
      "Shaders skull: Flipbook Rows - 27.0\n",
      "Shaders skull image: Image Texture: <bpy_struct, Image(\"res_low_bombus_grid27x27.png\") at 0x126eb0208>\n",
      "Shaders skull image: Image Texture.001: <bpy_struct, Image(\"res_low_bombus_grid27x27.png\") at 0x126eb0208>\n",
      "Shaders skull Density ColorRamp: 0.10000000149011612\n"
     ]
    }
   ],
   "source": [
    "flipbook_rows = nodes[\"Group\"].inputs[\"Flipbook Rows\"].default_value\n",
    "print(f\"Shaders skull: Flipbook Rows - {flipbook_rows}\")\n",
    "for node in nodes:\n",
    "    if node.type == \"TEX_IMAGE\":\n",
    "        print(f\"Shaders skull image: {node.name}: {node.image}\")\n",
    "print(f\"Shaders skull Density ColorRamp: {nodes['ColorRamp'].color_ramp.elements[0].position}\")\n",
    "\n",
    "flipbook_rows = nodes[\"Group\"].inputs[\"Flipbook Rows\"].default_value = 27\n",
    "for node in nodes:\n",
    "    if node.type == \"TEX_IMAGE\":\n",
    "        node.image = my_image\n",
    "nodes['ColorRamp'].color_ramp.elements[0].position = 0.1"
   ]
  }
 ],
 "metadata": {
  "kernelspec": {
   "display_name": "blender",
   "language": "python",
   "name": "blender"
  },
  "language_info": {
   "codemirror_mode": {
    "name": "ipython",
    "version": 3
   },
   "file_extension": ".py",
   "mimetype": "text/x-python",
   "name": "python",
   "nbconvert_exporter": "python",
   "pygments_lexer": "ipython3",
   "version": "3.11.9"
  }
 },
 "nbformat": 4,
 "nbformat_minor": 2
}
