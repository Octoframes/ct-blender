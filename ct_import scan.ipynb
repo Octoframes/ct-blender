{
 "cells": [
  {
   "cell_type": "code",
   "execution_count": 1,
   "metadata": {},
   "outputs": [],
   "source": [
    "import bpy"
   ]
  },
  {
   "cell_type": "code",
   "execution_count": null,
   "metadata": {},
   "outputs": [
    {
     "name": "stdout",
     "output_type": "stream",
     "text": [
      "hi\n"
     ]
    },
    {
     "name": "stdout",
     "output_type": "stream",
     "text": [
      "Read blend: \"/Users/jan-hendrik/projects/ct-blender/Scan Data Visualizer V1.blend\"\n",
      "Info: Saved \"Scan Data Visualizer V1.blend\"\n",
      "Info: Saved \"Scan Data Visualizer V1.blend\"\n"
     ]
    }
   ],
   "source": [
    "print(\"hi\")"
   ]
  },
  {
   "cell_type": "code",
   "execution_count": 5,
   "metadata": {},
   "outputs": [
    {
     "data": {
      "text/plain": [
       "{'FINISHED'}"
      ]
     },
     "execution_count": 5,
     "metadata": {},
     "output_type": "execute_result"
    }
   ],
   "source": [
    "import bpy\n",
    "\n",
    "# Open the .blend file\n",
    "bpy.ops.wm.open_mainfile(filepath=\"Scan Data Visualizer V1.blend\")"
   ]
  },
  {
   "cell_type": "code",
   "execution_count": 3,
   "metadata": {},
   "outputs": [
    {
     "name": "stdout",
     "output_type": "stream",
     "text": [
      "Loaded image: res_low_bombus_grid27x27.png\n"
     ]
    }
   ],
   "source": [
    "import bpy\n",
    "from pathlib import Path\n",
    "\n",
    "# Load the image\n",
    "image_path = Path(\"./res_low_bombus_grid27x27.png\").resolve()\n",
    "image = bpy.data.images.load(str(image_path))\n",
    "\n",
    "# Image is now stored in bpy.data.images and can be accessed later\n",
    "print(f\"Loaded image: {image.name}\")"
   ]
  },
  {
   "cell_type": "code",
   "execution_count": 4,
   "metadata": {},
   "outputs": [
    {
     "data": {
      "text/plain": [
       "bpy.data.materials['ImagePlaneMaterial'].node_tree"
      ]
     },
     "execution_count": 4,
     "metadata": {},
     "output_type": "execute_result"
    },
    {
     "name": "stdout",
     "output_type": "stream",
     "text": [
      "Writing homefile: \"/Users/jan-hendrik/Library/Application Support/Blender/4.3/config/startup.blend\" ok\n",
      "Info: Startup file saved\n"
     ]
    }
   ],
   "source": [
    "import bpy\n",
    "\n",
    "# Add a plane\n",
    "bpy.ops.mesh.primitive_plane_add(size=2, enter_editmode=False, align='WORLD', location=(0, 0, 0))\n",
    "plane = bpy.context.object\n",
    "plane.name = \"ImagePlane\"\n",
    "\n",
    "# Create a new material\n",
    "mat = bpy.data.materials.new(name=\"ImagePlaneMaterial\")\n",
    "plane.data.materials.append(mat)\n",
    "mat.use_nodes = True\n",
    "\n",
    "# Assign the image to the Base Color slot\n",
    "bsdf = mat.node_tree.nodes.get(\"Principled BSDF\")\n",
    "# bsdf.inputs['Base Color'].default_value = (1.0, 1.0, 1.0, 1.0)  # Reset Base Color\n",
    "image_texture_node = mat.node_tree.nodes.new(type='ShaderNodeTexImage')\n",
    "image_texture_node.image = image\n",
    "mat.node_tree.links.new(image_texture_node.outputs['Color'], bsdf.inputs['Base Color'])"
   ]
  }
 ],
 "metadata": {
  "kernelspec": {
   "display_name": "blender",
   "language": "python",
   "name": "blender"
  },
  "language_info": {
   "codemirror_mode": {
    "name": "ipython",
    "version": 3
   },
   "file_extension": ".py",
   "mimetype": "text/x-python",
   "name": "python",
   "nbconvert_exporter": "python",
   "pygments_lexer": "ipython3",
   "version": "3.11.9"
  }
 },
 "nbformat": 4,
 "nbformat_minor": 2
}
