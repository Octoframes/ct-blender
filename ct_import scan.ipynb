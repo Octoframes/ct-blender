{
 "cells": [
  {
   "cell_type": "code",
   "execution_count": 7,
   "metadata": {},
   "outputs": [
    {
     "data": {
      "text/plain": [
       "{'FINISHED'}"
      ]
     },
     "execution_count": 7,
     "metadata": {},
     "output_type": "execute_result"
    }
   ],
   "source": [
    "import bpy\n",
    "\n",
    "# Open the .blend file\n",
    "bpy.ops.wm.open_mainfile(filepath=\"Scan Data Visualizer V1.blend\")"
   ]
  },
  {
   "cell_type": "code",
   "execution_count": 16,
   "metadata": {},
   "outputs": [
    {
     "name": "stdout",
     "output_type": "stream",
     "text": [
      "Loaded image: res_low_bombus_grid27x27.png.001\n"
     ]
    }
   ],
   "source": [
    "import bpy\n",
    "from pathlib import Path\n",
    "\n",
    "# Load the image\n",
    "image_path = Path(\"./res_low_bombus_grid27x27.png\").resolve()\n",
    "image = bpy.data.images.load(str(image_path))\n",
    "\n",
    "# Image is now stored in bpy.data.images and can be accessed later\n",
    "print(f\"Loaded image: {image.name}\")"
   ]
  },
  {
   "cell_type": "code",
   "execution_count": 17,
   "metadata": {},
   "outputs": [
    {
     "data": {
      "text/plain": [
       "bpy.data.materials['ImagePlaneMaterial.002'].node_tree"
      ]
     },
     "execution_count": 17,
     "metadata": {},
     "output_type": "execute_result"
    }
   ],
   "source": [
    "import bpy\n",
    "\n",
    "# Add a plane\n",
    "bpy.ops.mesh.primitive_plane_add(size=2, enter_editmode=False, align='WORLD', location=(0, 0, 0))\n",
    "plane = bpy.context.object\n",
    "plane.name = \"ImagePlane\"\n",
    "\n",
    "# Create a new material\n",
    "mat = bpy.data.materials.new(name=\"ImagePlaneMaterial\")\n",
    "plane.data.materials.append(mat)\n",
    "mat.use_nodes = True\n",
    "\n",
    "# Assign the image to the Base Color slot\n",
    "bsdf = mat.node_tree.nodes.get(\"Principled BSDF\")\n",
    "# bsdf.inputs['Base Color'].default_value = (1.0, 1.0, 1.0, 1.0)  # Reset Base Color\n",
    "image_texture_node = mat.node_tree.nodes.new(type='ShaderNodeTexImage')\n",
    "image_texture_node.image = image\n",
    "mat.node_tree.links.new(image_texture_node.outputs['Color'], bsdf.inputs['Base Color'])"
   ]
  },
  {
   "cell_type": "code",
   "execution_count": 19,
   "metadata": {},
   "outputs": [],
   "source": [
    "obj = bpy.context.scene.objects.get(\"Scan PNG\")\n",
    "\n",
    "mat = obj.active_material\n",
    "nodes = mat.node_tree.nodes\n",
    "\n",
    "for node in nodes:\n",
    "    if node.type == 'TEX_IMAGE':\n",
    "        node.image = image"
   ]
  },
  {
   "cell_type": "code",
   "execution_count": null,
   "metadata": {},
   "outputs": [],
   "source": []
  }
 ],
 "metadata": {
  "kernelspec": {
   "display_name": "blender",
   "language": "python",
   "name": "blender"
  },
  "language_info": {
   "codemirror_mode": {
    "name": "ipython",
    "version": 3
   },
   "file_extension": ".py",
   "mimetype": "text/x-python",
   "name": "python",
   "nbconvert_exporter": "python",
   "pygments_lexer": "ipython3",
   "version": "3.11.9"
  }
 },
 "nbformat": 4,
 "nbformat_minor": 2
}
